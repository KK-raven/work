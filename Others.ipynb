{
 "cells": [
  {
   "cell_type": "code",
   "execution_count": 2,
   "metadata": {},
   "outputs": [],
   "source": [
    "import glob\n",
    "\n",
    "import numpy as np\n",
    "import pandas as pd\n",
    "import matplotlib.pyplot as plt\n",
    "import seaborn as sns\n",
    "%matplotlib inline"
   ]
  },
  {
   "cell_type": "code",
   "execution_count": 2,
   "metadata": {},
   "outputs": [
    {
     "data": {
      "text/plain": [
       "['Matplotlib.ipynb',\n",
       " 'Numpy.ipynb',\n",
       " 'OpenCV.ipynb',\n",
       " 'Others.ipynb',\n",
       " 'Pandas.ipynb',\n",
       " 'Python_basic.ipynb',\n",
       " 'Seaborn.ipynb',\n",
       " 'cos_sin.png',\n",
       " 'cropped_lenna.png',\n",
       " 'movie_sorted_profit.csv',\n",
       " 'pdf_files.pdf',\n",
       " 'pic_resources',\n",
       " 'public-covid-data',\n",
       " 'runtime_budget_scatter.png',\n",
       " 'sample_dict.npy',\n",
       " 'sample_ndarray.npy',\n",
       " 'saved_seaborn.png',\n",
       " 'savemultifig_sample.pdf',\n",
       " 'test.ipynb',\n",
       " 'tmdb_5000_credits.csv',\n",
       " 'tmdb_5000_movies.csv']"
      ]
     },
     "execution_count": 2,
     "metadata": {},
     "output_type": "execute_result"
    }
   ],
   "source": [
    "glob.glob('*')"
   ]
  },
  {
   "cell_type": "code",
   "execution_count": 3,
   "metadata": {},
   "outputs": [
    {
     "data": {
      "text/plain": [
       "['cos_sin.png',\n",
       " 'cropped_lenna.png',\n",
       " 'runtime_budget_scatter.png',\n",
       " 'saved_seaborn.png']"
      ]
     },
     "execution_count": 3,
     "metadata": {},
     "output_type": "execute_result"
    }
   ],
   "source": [
    "glob.glob('*.png')"
   ]
  },
  {
   "cell_type": "code",
   "execution_count": 4,
   "metadata": {},
   "outputs": [
    {
     "data": {
      "text/plain": [
       "['public-covid-data/new_folder',\n",
       " 'public-covid-data/rp_im',\n",
       " 'public-covid-data/rp_msk']"
      ]
     },
     "execution_count": 4,
     "metadata": {},
     "output_type": "execute_result"
    }
   ],
   "source": [
    "glob.glob('public-covid-data/*')"
   ]
  },
  {
   "cell_type": "code",
   "execution_count": 5,
   "metadata": {},
   "outputs": [
    {
     "data": {
      "text/plain": [
       "['public-covid-data/rp_im/1.nii.gz',\n",
       " 'public-covid-data/rp_im/2.nii.gz',\n",
       " 'public-covid-data/rp_im/3.nii.gz',\n",
       " 'public-covid-data/rp_im/4.nii.gz',\n",
       " 'public-covid-data/rp_im/5.nii.gz',\n",
       " 'public-covid-data/rp_im/6.nii.gz',\n",
       " 'public-covid-data/rp_im/7.nii.gz',\n",
       " 'public-covid-data/rp_im/8.nii.gz',\n",
       " 'public-covid-data/rp_im/9.nii.gz',\n",
       " 'public-covid-data/rp_msk/1.nii.gz',\n",
       " 'public-covid-data/rp_msk/2.nii.gz',\n",
       " 'public-covid-data/rp_msk/3.nii.gz',\n",
       " 'public-covid-data/rp_msk/4.nii.gz',\n",
       " 'public-covid-data/rp_msk/5.nii.gz',\n",
       " 'public-covid-data/rp_msk/6.nii.gz',\n",
       " 'public-covid-data/rp_msk/7.nii.gz',\n",
       " 'public-covid-data/rp_msk/8.nii.gz',\n",
       " 'public-covid-data/rp_msk/9.nii.gz']"
      ]
     },
     "execution_count": 5,
     "metadata": {},
     "output_type": "execute_result"
    }
   ],
   "source": [
    "glob.glob('public-covid-data/*/*')"
   ]
  },
  {
   "cell_type": "code",
   "execution_count": 6,
   "metadata": {},
   "outputs": [
    {
     "data": {
      "text/plain": [
       "['public-covid-data/rp_im/5.nii.gz',\n",
       " 'public-covid-data/rp_im/6.nii.gz',\n",
       " 'public-covid-data/rp_im/7.nii.gz',\n",
       " 'public-covid-data/rp_im/8.nii.gz',\n",
       " 'public-covid-data/rp_im/9.nii.gz']"
      ]
     },
     "execution_count": 6,
     "metadata": {},
     "output_type": "execute_result"
    }
   ],
   "source": [
    "glob.glob('public-covid-data/rp_im/[5-9]*')"
   ]
  },
  {
   "cell_type": "code",
   "execution_count": 4,
   "metadata": {},
   "outputs": [],
   "source": [
    "import os\n",
    "from pathlib import Path"
   ]
  },
  {
   "cell_type": "code",
   "execution_count": 8,
   "metadata": {},
   "outputs": [],
   "source": [
    "P = Path('public-covid-data/')"
   ]
  },
  {
   "cell_type": "code",
   "execution_count": 9,
   "metadata": {},
   "outputs": [],
   "source": [
    "p_i = P.iterdir()"
   ]
  },
  {
   "cell_type": "code",
   "execution_count": 10,
   "metadata": {},
   "outputs": [],
   "source": [
    "p_i_ = next(p_i)"
   ]
  },
  {
   "cell_type": "code",
   "execution_count": 11,
   "metadata": {},
   "outputs": [],
   "source": [
    "p_i_i = p_i_.iterdir()"
   ]
  },
  {
   "cell_type": "code",
   "execution_count": 12,
   "metadata": {},
   "outputs": [
    {
     "data": {
      "text/plain": [
       "[]"
      ]
     },
     "execution_count": 12,
     "metadata": {},
     "output_type": "execute_result"
    }
   ],
   "source": [
    "sub_p = list(p_i)[0]\n",
    "list(sub_p.glob('*[0-9]*'))"
   ]
  },
  {
   "cell_type": "code",
   "execution_count": 13,
   "metadata": {},
   "outputs": [
    {
     "ename": "IndexError",
     "evalue": "list index out of range",
     "output_type": "error",
     "traceback": [
      "\u001b[0;31m---------------------------------------------------------------------------\u001b[0m",
      "\u001b[0;31mIndexError\u001b[0m                                Traceback (most recent call last)",
      "\u001b[0;32m<ipython-input-13-5f798dfe9b57>\u001b[0m in \u001b[0;36m<module>\u001b[0;34m\u001b[0m\n\u001b[0;32m----> 1\u001b[0;31m \u001b[0mtarget_file\u001b[0m \u001b[0;34m=\u001b[0m \u001b[0mlist\u001b[0m\u001b[0;34m(\u001b[0m\u001b[0msub_p\u001b[0m\u001b[0;34m.\u001b[0m\u001b[0mglob\u001b[0m\u001b[0;34m(\u001b[0m\u001b[0;34m'*[0-9]*'\u001b[0m\u001b[0;34m)\u001b[0m\u001b[0;34m)\u001b[0m\u001b[0;34m[\u001b[0m\u001b[0;36m0\u001b[0m\u001b[0;34m]\u001b[0m\u001b[0;34m\u001b[0m\u001b[0;34m\u001b[0m\u001b[0m\n\u001b[0m",
      "\u001b[0;31mIndexError\u001b[0m: list index out of range"
     ]
    }
   ],
   "source": [
    "target_file = list(sub_p.glob('*[0-9]*'))[0]"
   ]
  },
  {
   "cell_type": "code",
   "execution_count": null,
   "metadata": {},
   "outputs": [],
   "source": [
    "folder_p, file_name = os.path.split(target_file)"
   ]
  },
  {
   "cell_type": "code",
   "execution_count": null,
   "metadata": {},
   "outputs": [],
   "source": [
    "folder_p"
   ]
  },
  {
   "cell_type": "code",
   "execution_count": null,
   "metadata": {},
   "outputs": [],
   "source": [
    "file_name"
   ]
  },
  {
   "cell_type": "code",
   "execution_count": null,
   "metadata": {},
   "outputs": [],
   "source": [
    "os.path.join(folder_p, file_name)"
   ]
  },
  {
   "cell_type": "code",
   "execution_count": null,
   "metadata": {},
   "outputs": [],
   "source": [
    "# public-covid-data/new_folderを作成\n",
    "\n",
    "P = Path('public-covid-data')\n",
    "new_folder_name = 'new_folder'\n",
    "new_folder_path = os.path.join(P, new_folder_name)\n",
    "new_folder_path"
   ]
  },
  {
   "cell_type": "code",
   "execution_count": 3,
   "metadata": {},
   "outputs": [
    {
     "ename": "NameError",
     "evalue": "name 'os' is not defined",
     "output_type": "error",
     "traceback": [
      "\u001b[0;31m---------------------------------------------------------------------------\u001b[0m",
      "\u001b[0;31mNameError\u001b[0m                                 Traceback (most recent call last)",
      "\u001b[0;32m<ipython-input-3-6ec308c81777>\u001b[0m in \u001b[0;36m<module>\u001b[0;34m\u001b[0m\n\u001b[0;32m----> 1\u001b[0;31m \u001b[0mos\u001b[0m\u001b[0;34m.\u001b[0m\u001b[0mpath\u001b[0m\u001b[0;34m.\u001b[0m\u001b[0mexists\u001b[0m\u001b[0;34m(\u001b[0m\u001b[0mnew_folder_path\u001b[0m\u001b[0;34m)\u001b[0m\u001b[0;34m\u001b[0m\u001b[0;34m\u001b[0m\u001b[0m\n\u001b[0m",
      "\u001b[0;31mNameError\u001b[0m: name 'os' is not defined"
     ]
    }
   ],
   "source": [
    "os.path.exists(new_folder_path)"
   ]
  },
  {
   "cell_type": "code",
   "execution_count": null,
   "metadata": {},
   "outputs": [],
   "source": [
    "if not os.path.exists(new_folder_path):\n",
    "    os.makedirs(new_folder_path)"
   ]
  },
  {
   "cell_type": "code",
   "execution_count": 5,
   "metadata": {},
   "outputs": [
    {
     "ename": "NameError",
     "evalue": "name 'new_folder_path' is not defined",
     "output_type": "error",
     "traceback": [
      "\u001b[0;31m---------------------------------------------------------------------------\u001b[0m",
      "\u001b[0;31mNameError\u001b[0m                                 Traceback (most recent call last)",
      "\u001b[0;32m<ipython-input-5-6ec308c81777>\u001b[0m in \u001b[0;36m<module>\u001b[0;34m\u001b[0m\n\u001b[0;32m----> 1\u001b[0;31m \u001b[0mos\u001b[0m\u001b[0;34m.\u001b[0m\u001b[0mpath\u001b[0m\u001b[0;34m.\u001b[0m\u001b[0mexists\u001b[0m\u001b[0;34m(\u001b[0m\u001b[0mnew_folder_path\u001b[0m\u001b[0;34m)\u001b[0m\u001b[0;34m\u001b[0m\u001b[0;34m\u001b[0m\u001b[0m\n\u001b[0m",
      "\u001b[0;31mNameError\u001b[0m: name 'new_folder_path' is not defined"
     ]
    }
   ],
   "source": [
    "os.path.exists(new_folder_path)"
   ]
  },
  {
   "cell_type": "code",
   "execution_count": 14,
   "metadata": {},
   "outputs": [],
   "source": [
    "from tqdm import tqdm"
   ]
  },
  {
   "cell_type": "code",
   "execution_count": 15,
   "metadata": {},
   "outputs": [
    {
     "name": "stderr",
     "output_type": "stream",
     "text": [
      "0it [00:00, ?it/s]"
     ]
    },
    {
     "data": {
      "text/plain": [
       "0it [00:00, ?it/s]"
      ]
     },
     "execution_count": 15,
     "metadata": {},
     "output_type": "execute_result"
    }
   ],
   "source": [
    "tqdm()"
   ]
  },
  {
   "cell_type": "code",
   "execution_count": 18,
   "metadata": {},
   "outputs": [
    {
     "name": "stderr",
     "output_type": "stream",
     "text": [
      "\n",
      "  0%|          | 0/10000000 [00:00<?, ?it/s]\u001b[A\n",
      "  4%|▎         | 353994/10000000 [00:00<00:02, 3539934.94it/s]\u001b[A\n",
      "  8%|▊         | 761406/10000000 [00:00<00:02, 3684878.26it/s]\u001b[A\n",
      " 12%|█▏        | 1156255/10000000 [00:00<00:02, 3760188.83it/s]\u001b[A\n",
      " 16%|█▋        | 1628953/10000000 [00:00<00:02, 4005986.18it/s]\u001b[A\n",
      " 21%|██        | 2116329/10000000 [00:00<00:01, 4232036.66it/s]\u001b[A\n",
      " 26%|██▌       | 2624486/10000000 [00:00<00:01, 4455495.03it/s]\u001b[A\n",
      " 31%|███▏      | 3141974/10000000 [00:00<00:01, 4649393.69it/s]\u001b[A\n",
      " 37%|███▋      | 3676950/10000000 [00:00<00:01, 4839459.93it/s]\u001b[A\n",
      " 42%|████▏     | 4214325/10000000 [00:00<00:01, 4988246.30it/s]\u001b[A\n",
      " 48%|████▊     | 4769932/10000000 [00:01<00:01, 5146019.43it/s]\u001b[A\n",
      " 53%|█████▎    | 5329753/10000000 [00:01<00:00, 5273813.67it/s]\u001b[A\n",
      " 59%|█████▉    | 5893508/10000000 [00:01<00:00, 5377906.73it/s]\u001b[A\n",
      " 65%|██████▍   | 6458802/10000000 [00:01<00:00, 5457562.77it/s]\u001b[A\n",
      " 70%|███████   | 7010687/10000000 [00:01<00:00, 5475803.20it/s]\u001b[A\n",
      " 76%|███████▌  | 7563424/10000000 [00:01<00:00, 5491169.59it/s]\u001b[A\n",
      " 81%|████████  | 8118935/10000000 [00:01<00:00, 5510190.37it/s]\u001b[A\n",
      " 87%|████████▋ | 8680927/10000000 [00:01<00:00, 5542654.34it/s]\u001b[A\n",
      " 92%|█████████▏| 9240314/10000000 [00:01<00:00, 5557913.98it/s]\u001b[A\n",
      "100%|██████████| 10000000/10000000 [00:01<00:00, 5155597.03it/s][A"
     ]
    },
    {
     "name": "stdout",
     "output_type": "stream",
     "text": [
      "10000000\n",
      "it took 1.9431610107421875 secs\n"
     ]
    },
    {
     "name": "stderr",
     "output_type": "stream",
     "text": [
      "\n"
     ]
    }
   ],
   "source": [
    "import time\n",
    "sum_ = 0\n",
    "before = time.time()\n",
    "for i in tqdm(range(int(1e7))):\n",
    "    sum_ += 1\n",
    "print(sum_)\n",
    "after = time.time()\n",
    "print(f'it took {after - before} secs')"
   ]
  },
  {
   "cell_type": "code",
   "execution_count": 19,
   "metadata": {},
   "outputs": [
    {
     "name": "stderr",
     "output_type": "stream",
     "text": [
      "100%|██████████| 10000000/10000000 [00:01<00:00, 5427227.31it/s]"
     ]
    },
    {
     "name": "stdout",
     "output_type": "stream",
     "text": [
      "10000000\n",
      "it took 1.8443677425384521 secs\n"
     ]
    },
    {
     "name": "stderr",
     "output_type": "stream",
     "text": [
      "\n"
     ]
    }
   ],
   "source": [
    "import time\n",
    "sum_ = 0\n",
    "before = time.time()\n",
    "for i in tqdm(range(int(1e7)), position=0):\n",
    "    sum_ += 1\n",
    "print(sum_)\n",
    "after = time.time()\n",
    "print(f'it took {after - before} secs')"
   ]
  },
  {
   "cell_type": "code",
   "execution_count": 26,
   "metadata": {},
   "outputs": [
    {
     "name": "stdout",
     "output_type": "stream",
     "text": [
      "['1.nii.gz', '2.nii.gz', '3.nii.gz', '4.nii.gz', '5.nii.gz', '6.nii.gz', '7.nii.gz', '8.nii.gz', '9.nii.gz']\n",
      "['public-covid-data/rp_im/1.nii.gz', 'public-covid-data/rp_im/2.nii.gz', 'public-covid-data/rp_im/3.nii.gz', 'public-covid-data/rp_im/4.nii.gz', 'public-covid-data/rp_im/5.nii.gz', 'public-covid-data/rp_im/6.nii.gz', 'public-covid-data/rp_im/7.nii.gz', 'public-covid-data/rp_im/8.nii.gz', 'public-covid-data/rp_im/9.nii.gz']\n",
      "['public-covid-data/rp_msk/1.nii.gz', 'public-covid-data/rp_msk/2.nii.gz', 'public-covid-data/rp_msk/3.nii.gz', 'public-covid-data/rp_msk/4.nii.gz', 'public-covid-data/rp_msk/5.nii.gz', 'public-covid-data/rp_msk/6.nii.gz', 'public-covid-data/rp_msk/7.nii.gz', 'public-covid-data/rp_msk/8.nii.gz', 'public-covid-data/rp_msk/9.nii.gz']\n"
     ]
    },
    {
     "data": {
      "text/html": [
       "<div>\n",
       "<style scoped>\n",
       "    .dataframe tbody tr th:only-of-type {\n",
       "        vertical-align: middle;\n",
       "    }\n",
       "\n",
       "    .dataframe tbody tr th {\n",
       "        vertical-align: top;\n",
       "    }\n",
       "\n",
       "    .dataframe thead th {\n",
       "        text-align: right;\n",
       "    }\n",
       "</style>\n",
       "<table border=\"1\" class=\"dataframe\">\n",
       "  <thead>\n",
       "    <tr style=\"text-align: right;\">\n",
       "      <th></th>\n",
       "      <th>path_im</th>\n",
       "      <th>filename</th>\n",
       "      <th>path_msk</th>\n",
       "    </tr>\n",
       "  </thead>\n",
       "  <tbody>\n",
       "    <tr>\n",
       "      <th>0</th>\n",
       "      <td>public-covid-data/rp_im/1.nii.gz</td>\n",
       "      <td>1.nii.gz</td>\n",
       "      <td>public-covid-data/rp_msk/1.nii.gz</td>\n",
       "    </tr>\n",
       "    <tr>\n",
       "      <th>1</th>\n",
       "      <td>public-covid-data/rp_im/2.nii.gz</td>\n",
       "      <td>2.nii.gz</td>\n",
       "      <td>public-covid-data/rp_msk/2.nii.gz</td>\n",
       "    </tr>\n",
       "    <tr>\n",
       "      <th>2</th>\n",
       "      <td>public-covid-data/rp_im/3.nii.gz</td>\n",
       "      <td>3.nii.gz</td>\n",
       "      <td>public-covid-data/rp_msk/3.nii.gz</td>\n",
       "    </tr>\n",
       "    <tr>\n",
       "      <th>3</th>\n",
       "      <td>public-covid-data/rp_im/4.nii.gz</td>\n",
       "      <td>4.nii.gz</td>\n",
       "      <td>public-covid-data/rp_msk/4.nii.gz</td>\n",
       "    </tr>\n",
       "    <tr>\n",
       "      <th>4</th>\n",
       "      <td>public-covid-data/rp_im/5.nii.gz</td>\n",
       "      <td>5.nii.gz</td>\n",
       "      <td>public-covid-data/rp_msk/5.nii.gz</td>\n",
       "    </tr>\n",
       "    <tr>\n",
       "      <th>5</th>\n",
       "      <td>public-covid-data/rp_im/6.nii.gz</td>\n",
       "      <td>6.nii.gz</td>\n",
       "      <td>public-covid-data/rp_msk/6.nii.gz</td>\n",
       "    </tr>\n",
       "    <tr>\n",
       "      <th>6</th>\n",
       "      <td>public-covid-data/rp_im/7.nii.gz</td>\n",
       "      <td>7.nii.gz</td>\n",
       "      <td>public-covid-data/rp_msk/7.nii.gz</td>\n",
       "    </tr>\n",
       "    <tr>\n",
       "      <th>7</th>\n",
       "      <td>public-covid-data/rp_im/8.nii.gz</td>\n",
       "      <td>8.nii.gz</td>\n",
       "      <td>public-covid-data/rp_msk/8.nii.gz</td>\n",
       "    </tr>\n",
       "    <tr>\n",
       "      <th>8</th>\n",
       "      <td>public-covid-data/rp_im/9.nii.gz</td>\n",
       "      <td>9.nii.gz</td>\n",
       "      <td>public-covid-data/rp_msk/9.nii.gz</td>\n",
       "    </tr>\n",
       "  </tbody>\n",
       "</table>\n",
       "</div>"
      ],
      "text/plain": [
       "                            path_im  filename  \\\n",
       "0  public-covid-data/rp_im/1.nii.gz  1.nii.gz   \n",
       "1  public-covid-data/rp_im/2.nii.gz  2.nii.gz   \n",
       "2  public-covid-data/rp_im/3.nii.gz  3.nii.gz   \n",
       "3  public-covid-data/rp_im/4.nii.gz  4.nii.gz   \n",
       "4  public-covid-data/rp_im/5.nii.gz  5.nii.gz   \n",
       "5  public-covid-data/rp_im/6.nii.gz  6.nii.gz   \n",
       "6  public-covid-data/rp_im/7.nii.gz  7.nii.gz   \n",
       "7  public-covid-data/rp_im/8.nii.gz  8.nii.gz   \n",
       "8  public-covid-data/rp_im/9.nii.gz  9.nii.gz   \n",
       "\n",
       "                            path_msk  \n",
       "0  public-covid-data/rp_msk/1.nii.gz  \n",
       "1  public-covid-data/rp_msk/2.nii.gz  \n",
       "2  public-covid-data/rp_msk/3.nii.gz  \n",
       "3  public-covid-data/rp_msk/4.nii.gz  \n",
       "4  public-covid-data/rp_msk/5.nii.gz  \n",
       "5  public-covid-data/rp_msk/6.nii.gz  \n",
       "6  public-covid-data/rp_msk/7.nii.gz  \n",
       "7  public-covid-data/rp_msk/8.nii.gz  \n",
       "8  public-covid-data/rp_msk/9.nii.gz  "
      ]
     },
     "execution_count": 26,
     "metadata": {},
     "output_type": "execute_result"
    }
   ],
   "source": [
    "P_im = Path('public-covid-data/rp_im')\n",
    "P_msk = Path('public-covid-data/rp_msk')\n",
    "files_list = []\n",
    "path_im_list = []\n",
    "path_msk_list = []\n",
    "\n",
    "for  file_path in P_im.iterdir():\n",
    "    folder_path, file_name = os.path.split(file_path)\n",
    "    files_list.append(file_name)\n",
    "    path_im_list.append(folder_path + '/' + file_name)\n",
    "\n",
    "for file_path in P_msk.iterdir():\n",
    "    folder_path, file_name = os.path.split(file_path)\n",
    "    path_msk_list.append(folder_path + '/' + file_name)\n",
    "    \n",
    "print(files_list)\n",
    "print(path_im_list)\n",
    "print(path_msk_list)\n",
    "\n",
    "data = {'path_im': path_im_list, 'filename': files_list, 'path_msk': path_msk_list}\n",
    "df = pd.DataFrame(data)\n",
    "df"
   ]
  },
  {
   "cell_type": "code",
   "execution_count": 28,
   "metadata": {},
   "outputs": [
    {
     "data": {
      "text/plain": [
       "[PosixPath('public-covid-data/.DS_Store'),\n",
       " PosixPath('public-covid-data/new_folder'),\n",
       " PosixPath('public-covid-data/rp_im'),\n",
       " PosixPath('public-covid-data/rp_msk')]"
      ]
     },
     "execution_count": 28,
     "metadata": {},
     "output_type": "execute_result"
    }
   ],
   "source": [
    "P = Path('public-covid-data')\n",
    "folder = list(P.iterdir())\n",
    "folder"
   ]
  },
  {
   "cell_type": "code",
   "execution_count": 52,
   "metadata": {},
   "outputs": [
    {
     "data": {
      "text/plain": [
       "['1.nii.gz',\n",
       " '2.nii.gz',\n",
       " '3.nii.gz',\n",
       " '4.nii.gz',\n",
       " '5.nii.gz',\n",
       " '6.nii.gz',\n",
       " '7.nii.gz',\n",
       " '8.nii.gz',\n",
       " '9.nii.gz']"
      ]
     },
     "execution_count": 52,
     "metadata": {},
     "output_type": "execute_result"
    }
   ],
   "source": [
    "P_iter = P.iterdir()\n",
    "next(P_iter)\n",
    "next(P_iter)\n",
    "\n",
    "for folder in P_iter:\n",
    "    path_list = [p.as_posix() for p in folder.iterdir()]\n",
    "\n",
    "    \n",
    "file_name_list = [name[-8:] for name in path_list]\n",
    "\n",
    "path_list\n",
    "file_name_list"
   ]
  },
  {
   "cell_type": "code",
   "execution_count": 29,
   "metadata": {},
   "outputs": [
    {
     "data": {
      "text/plain": [
       "['public-covid-data/rp_im/1.nii.gz',\n",
       " 'public-covid-data/rp_im/2.nii.gz',\n",
       " 'public-covid-data/rp_im/3.nii.gz',\n",
       " 'public-covid-data/rp_im/4.nii.gz',\n",
       " 'public-covid-data/rp_im/5.nii.gz',\n",
       " 'public-covid-data/rp_im/6.nii.gz',\n",
       " 'public-covid-data/rp_im/7.nii.gz',\n",
       " 'public-covid-data/rp_im/8.nii.gz',\n",
       " 'public-covid-data/rp_im/9.nii.gz']"
      ]
     },
     "execution_count": 29,
     "metadata": {},
     "output_type": "execute_result"
    }
   ],
   "source": [
    "im_list = [file.as_posix() for file in folder[2].iterdir()]\n",
    "im_list"
   ]
  },
  {
   "cell_type": "code",
   "execution_count": 30,
   "metadata": {},
   "outputs": [
    {
     "data": {
      "text/plain": [
       "['public-covid-data/rp_msk/1.nii.gz',\n",
       " 'public-covid-data/rp_msk/2.nii.gz',\n",
       " 'public-covid-data/rp_msk/3.nii.gz',\n",
       " 'public-covid-data/rp_msk/4.nii.gz',\n",
       " 'public-covid-data/rp_msk/5.nii.gz',\n",
       " 'public-covid-data/rp_msk/6.nii.gz',\n",
       " 'public-covid-data/rp_msk/7.nii.gz',\n",
       " 'public-covid-data/rp_msk/8.nii.gz',\n",
       " 'public-covid-data/rp_msk/9.nii.gz']"
      ]
     },
     "execution_count": 30,
     "metadata": {},
     "output_type": "execute_result"
    }
   ],
   "source": [
    "msk_list = [file.as_posix() for file in folder[3].iterdir()]\n",
    "msk_list"
   ]
  },
  {
   "cell_type": "code",
   "execution_count": 17,
   "metadata": {},
   "outputs": [
    {
     "data": {
      "text/plain": [
       "[PosixPath('public-covid-data/rp_msk/1.nii.gz'),\n",
       " PosixPath('public-covid-data/rp_msk/2.nii.gz'),\n",
       " PosixPath('public-covid-data/rp_msk/3.nii.gz'),\n",
       " PosixPath('public-covid-data/rp_msk/4.nii.gz'),\n",
       " PosixPath('public-covid-data/rp_msk/5.nii.gz'),\n",
       " PosixPath('public-covid-data/rp_msk/6.nii.gz'),\n",
       " PosixPath('public-covid-data/rp_msk/7.nii.gz'),\n",
       " PosixPath('public-covid-data/rp_msk/8.nii.gz'),\n",
       " PosixPath('public-covid-data/rp_msk/9.nii.gz')]"
      ]
     },
     "execution_count": 17,
     "metadata": {},
     "output_type": "execute_result"
    }
   ],
   "source": [
    "import os\n",
    "from pathlib import Path\n",
    "\n",
    "P = Path('public-covid-data')\n",
    "P_i = P.iterdir()\n",
    "list(list(P_i)[2].iterdir())"
   ]
  },
  {
   "cell_type": "code",
   "execution_count": 18,
   "metadata": {},
   "outputs": [],
   "source": [
    "for dir_path in list(P_i):\n",
    "    file_path_list = [file_path.as_posix() for file_path in list(dir_path.iterdir())]\n",
    "    print(file_path_list)"
   ]
  },
  {
   "cell_type": "code",
   "execution_count": 9,
   "metadata": {},
   "outputs": [
    {
     "name": "stdout",
     "output_type": "stream",
     "text": [
      "The autoreload extension is already loaded. To reload it, use:\n",
      "  %reload_ext autoreload\n"
     ]
    }
   ],
   "source": [
    "%load_ext autoreload\n",
    "%autoreload 2\n",
    "\n",
    "from util import multiply"
   ]
  },
  {
   "cell_type": "code",
   "execution_count": 13,
   "metadata": {},
   "outputs": [
    {
     "name": "stdout",
     "output_type": "stream",
     "text": [
      "3 × 5 = 15!!!\n"
     ]
    },
    {
     "data": {
      "text/plain": [
       "15"
      ]
     },
     "execution_count": 13,
     "metadata": {},
     "output_type": "execute_result"
    }
   ],
   "source": [
    "util.multiply(3, 5)"
   ]
  },
  {
   "cell_type": "code",
   "execution_count": null,
   "metadata": {},
   "outputs": [],
   "source": []
  }
 ],
 "metadata": {
  "kernelspec": {
   "display_name": "Python 3",
   "language": "python",
   "name": "python3"
  },
  "language_info": {
   "codemirror_mode": {
    "name": "ipython",
    "version": 3
   },
   "file_extension": ".py",
   "mimetype": "text/x-python",
   "name": "python",
   "nbconvert_exporter": "python",
   "pygments_lexer": "ipython3",
   "version": "3.7.6"
  }
 },
 "nbformat": 4,
 "nbformat_minor": 4
}
