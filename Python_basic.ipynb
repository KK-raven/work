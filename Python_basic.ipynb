{
 "cells": [
  {
   "cell_type": "code",
   "execution_count": 1,
   "metadata": {},
   "outputs": [],
   "source": [
    "# 10 の -a乗は 1e-a と書ける"
   ]
  },
  {
   "cell_type": "code",
   "execution_count": 2,
   "metadata": {},
   "outputs": [
    {
     "data": {
      "text/plain": [
       "0.001"
      ]
     },
     "execution_count": 2,
     "metadata": {},
     "output_type": "execute_result"
    }
   ],
   "source": [
    "1e-3"
   ]
  },
  {
   "cell_type": "code",
   "execution_count": 1,
   "metadata": {},
   "outputs": [
    {
     "data": {
      "text/plain": [
       "2"
      ]
     },
     "execution_count": 1,
     "metadata": {},
     "output_type": "execute_result"
    }
   ],
   "source": [
    "True + True"
   ]
  },
  {
   "cell_type": "code",
   "execution_count": 5,
   "metadata": {},
   "outputs": [
    {
     "data": {
      "text/plain": [
       "{1, 2, 3, 4}"
      ]
     },
     "execution_count": 5,
     "metadata": {},
     "output_type": "execute_result"
    }
   ],
   "source": [
    "set1 = {1, 1, 3, 3, 3, 2, 2, 4}\n",
    "set1"
   ]
  },
  {
   "cell_type": "code",
   "execution_count": 6,
   "metadata": {},
   "outputs": [
    {
     "data": {
      "text/plain": [
       "1"
      ]
     },
     "execution_count": 6,
     "metadata": {},
     "output_type": "execute_result"
    }
   ],
   "source": [
    "int(1.00)"
   ]
  },
  {
   "cell_type": "code",
   "execution_count": 7,
   "metadata": {},
   "outputs": [
    {
     "data": {
      "text/plain": [
       "1.0"
      ]
     },
     "execution_count": 7,
     "metadata": {},
     "output_type": "execute_result"
    }
   ],
   "source": [
    "float(1)"
   ]
  },
  {
   "cell_type": "code",
   "execution_count": 8,
   "metadata": {},
   "outputs": [
    {
     "data": {
      "text/plain": [
       "True"
      ]
     },
     "execution_count": 8,
     "metadata": {},
     "output_type": "execute_result"
    }
   ],
   "source": [
    "bool(1)"
   ]
  },
  {
   "cell_type": "code",
   "execution_count": 9,
   "metadata": {},
   "outputs": [
    {
     "data": {
      "text/plain": [
       "['h', 'e', 'l', 'l', 'o']"
      ]
     },
     "execution_count": 9,
     "metadata": {},
     "output_type": "execute_result"
    }
   ],
   "source": [
    "list('hello')"
   ]
  },
  {
   "cell_type": "code",
   "execution_count": 10,
   "metadata": {},
   "outputs": [
    {
     "data": {
      "text/plain": [
       "{1, 2, 3, 4, 5}"
      ]
     },
     "execution_count": 10,
     "metadata": {},
     "output_type": "execute_result"
    }
   ],
   "source": [
    "list1 = [1, 2, 2, 3, 3, 3, 5, 4, 4]\n",
    "set(list1)  # set()はlistの重複を取り除きたい時に便利"
   ]
  },
  {
   "cell_type": "code",
   "execution_count": 11,
   "metadata": {},
   "outputs": [
    {
     "data": {
      "text/plain": [
       "True"
      ]
     },
     "execution_count": 11,
     "metadata": {},
     "output_type": "execute_result"
    }
   ],
   "source": [
    "'h' in 'hellow'"
   ]
  },
  {
   "cell_type": "code",
   "execution_count": 13,
   "metadata": {},
   "outputs": [
    {
     "data": {
      "text/plain": [
       "True"
      ]
     },
     "execution_count": 13,
     "metadata": {},
     "output_type": "execute_result"
    }
   ],
   "source": [
    "'40' in '5400'"
   ]
  },
  {
   "cell_type": "code",
   "execution_count": 15,
   "metadata": {},
   "outputs": [
    {
     "data": {
      "text/plain": [
       "False"
      ]
     },
     "execution_count": 15,
     "metadata": {},
     "output_type": "execute_result"
    }
   ],
   "source": [
    "'e' in ['2', 'the']"
   ]
  },
  {
   "cell_type": "code",
   "execution_count": 16,
   "metadata": {},
   "outputs": [],
   "source": [
    "# or を使う場合、Trueが出た瞬間に、それ以降の演算はされずにTrueを返す"
   ]
  },
  {
   "cell_type": "code",
   "execution_count": 18,
   "metadata": {},
   "outputs": [
    {
     "data": {
      "text/plain": [
       "True"
      ]
     },
     "execution_count": 18,
     "metadata": {},
     "output_type": "execute_result"
    }
   ],
   "source": [
    "a = 4\n",
    "(a < 10) or (b > 8)  # 本来 b は定義されていないにも関わらず、エラーを出さずにTrueを返す"
   ]
  },
  {
   "cell_type": "code",
   "execution_count": 19,
   "metadata": {},
   "outputs": [
    {
     "data": {
      "text/plain": [
       "True"
      ]
     },
     "execution_count": 19,
     "metadata": {},
     "output_type": "execute_result"
    }
   ],
   "source": [
    "# Noneかどうかの判定に、is をよく使う\n",
    "a = None\n",
    "a is None"
   ]
  },
  {
   "cell_type": "code",
   "execution_count": 23,
   "metadata": {},
   "outputs": [
    {
     "name": "stdout",
     "output_type": "stream",
     "text": [
      "I like red.\n",
      "I like blue.\n",
      "yellow\n",
      "purple\n",
      "pink\n",
      "I like black.\n",
      "white\n"
     ]
    }
   ],
   "source": [
    "colors = ['red', 'blue', 'yellow', 'purple', 'pink', 'black', 'white']\n",
    "favorite_colors = ['red', 'black', 'blue']\n",
    "\n",
    "for color in colors:\n",
    "    if color in favorite_colors:\n",
    "        print(f\"I like {color}.\")\n",
    "    else:\n",
    "        print(color)\n",
    "        "
   ]
  },
  {
   "cell_type": "code",
   "execution_count": 24,
   "metadata": {},
   "outputs": [
    {
     "name": "stdout",
     "output_type": "stream",
     "text": [
      "I like 0: red.\n",
      "I like 1: blue.\n",
      "2: yellow\n",
      "3: purple\n",
      "4: pink\n",
      "I like 5: black.\n",
      "6: white\n"
     ]
    }
   ],
   "source": [
    "colors = ['red', 'blue', 'yellow', 'purple', 'pink', 'black', 'white']\n",
    "favorite_colors = ['red', 'black', 'blue']\n",
    "\n",
    "for idx, color in enumerate(colors):\n",
    "    if color in favorite_colors:\n",
    "        print(f\"I like {idx}: {color}.\")\n",
    "    else:\n",
    "        print(f\"{idx}: {color}\")\n",
    "        "
   ]
  },
  {
   "cell_type": "code",
   "execution_count": 28,
   "metadata": {},
   "outputs": [
    {
     "data": {
      "text/plain": [
       "['red.png', 'blue.png', 'black.png']"
      ]
     },
     "execution_count": 28,
     "metadata": {},
     "output_type": "execute_result"
    }
   ],
   "source": [
    "colors_png = [color + '.png' for color in colors if color in favorite_colors]\n",
    "colors_png"
   ]
  },
  {
   "cell_type": "code",
   "execution_count": 38,
   "metadata": {},
   "outputs": [
    {
     "data": {
      "text/plain": [
       "[1, 2, 3, 4]"
      ]
     },
     "execution_count": 38,
     "metadata": {},
     "output_type": "execute_result"
    }
   ],
   "source": [
    "list_a = [1, 2, 3]\n",
    "\n",
    "def list_append(list_param, param):\n",
    "    list_param.append(param)\n",
    "    return list_param\n",
    "\n",
    "list_append(list_a, 4)\n",
    "list_a"
   ]
  },
  {
   "cell_type": "code",
   "execution_count": 39,
   "metadata": {},
   "outputs": [
    {
     "data": {
      "text/plain": [
       "7"
      ]
     },
     "execution_count": 39,
     "metadata": {},
     "output_type": "execute_result"
    }
   ],
   "source": [
    "def add_num(num_a, num_b=3):\n",
    "    return num_a + num_b\n",
    "\n",
    "num_a = 4\n",
    "add_num(num_a)"
   ]
  },
  {
   "cell_type": "code",
   "execution_count": 40,
   "metadata": {},
   "outputs": [
    {
     "data": {
      "text/plain": [
       "[1, 2, 3, 4]"
      ]
     },
     "execution_count": 40,
     "metadata": {},
     "output_type": "execute_result"
    }
   ],
   "source": [
    "list_b = list_a.copy()\n",
    "list_b"
   ]
  },
  {
   "cell_type": "code",
   "execution_count": 41,
   "metadata": {},
   "outputs": [
    {
     "name": "stdout",
     "output_type": "stream",
     "text": [
      "[1, 2, 3, 4]\n",
      "[1, 2, 3, 4, 5]\n",
      "[1, 2, 3, 4, 5]\n"
     ]
    }
   ],
   "source": [
    "list_c = list_append(list_b, 5)\n",
    "print(list_a)\n",
    "print(list_b)\n",
    "print(list_c)"
   ]
  },
  {
   "cell_type": "code",
   "execution_count": 44,
   "metadata": {},
   "outputs": [
    {
     "data": {
      "text/plain": [
       "'image1'"
      ]
     },
     "execution_count": 44,
     "metadata": {},
     "output_type": "execute_result"
    }
   ],
   "source": [
    "example_pass = '/home/user/Desktop/image1.jpg'\n",
    "\n",
    "\n",
    "def get_file_name(file_pass):\n",
    "    str_list = file_pass.split('/')\n",
    "    file_name = str_list[-1]\n",
    "    param = lambda x: x.split('.')[0]\n",
    "    return param(file_name)\n",
    "\n",
    "get_file_name(example_pass)"
   ]
  },
  {
   "cell_type": "code",
   "execution_count": 50,
   "metadata": {},
   "outputs": [
    {
     "data": {
      "text/plain": [
       "'image1'"
      ]
     },
     "execution_count": 50,
     "metadata": {},
     "output_type": "execute_result"
    }
   ],
   "source": [
    "x = lambda path: path.split('/')[-1].split('.')[0]\n",
    "x(example_pass)"
   ]
  },
  {
   "cell_type": "code",
   "execution_count": 53,
   "metadata": {},
   "outputs": [
    {
     "data": {
      "text/plain": [
       "['filename1_0.png', 'filename2_1.png', 'filename3_2.png', 'filename4_3.png']"
      ]
     },
     "execution_count": 53,
     "metadata": {},
     "output_type": "execute_result"
    }
   ],
   "source": [
    "def file_renaming(file_list):\n",
    "    renamed_list = []\n",
    "    for idx, name in enumerate(file_list):\n",
    "        # idx += 1\n",
    "        new_name = name + f\"_{idx}.png\"\n",
    "        renamed_list.append(new_name)\n",
    "    return renamed_list\n",
    "\n",
    "\n",
    "example_list = ['filename1', 'filename2', 'filename3', 'filename4']\n",
    "new_list = file_renaming(example_list)\n",
    "new_list"
   ]
  },
  {
   "cell_type": "code",
   "execution_count": 56,
   "metadata": {},
   "outputs": [
    {
     "data": {
      "text/plain": [
       "['filename1_0.png', 'filename2_1.png', 'filename3_2.png', 'filename4_3.png']"
      ]
     },
     "execution_count": 56,
     "metadata": {},
     "output_type": "execute_result"
    }
   ],
   "source": [
    "def add_png(filename_list):\n",
    "    return [f\"{filename}_{idx}.png\" for idx, filename in enumerate(filename_list)]\n",
    "\n",
    "add_png(example_list)"
   ]
  },
  {
   "cell_type": "code",
   "execution_count": 60,
   "metadata": {},
   "outputs": [
    {
     "name": "stdout",
     "output_type": "stream",
     "text": [
      "['filename1_0.png', 'filename2_1.png', 'filename3_2.png', 'filename4_3.png']\n"
     ]
    },
    {
     "data": {
      "text/plain": [
       "['filename1_0.jpg', 'filename2_1.jpg', 'filename3_2.jpg', 'filename4_3.jpg']"
      ]
     },
     "execution_count": 60,
     "metadata": {},
     "output_type": "execute_result"
    }
   ],
   "source": [
    "def add_extension(filename_list, extension='png'):\n",
    "    return [f\"{filename}_{idx}.{extension}\" for idx, filename in enumerate(filename_list)]\n",
    "\n",
    "\n",
    "print(add_extension(example_list))\n",
    "add_extension(example_list, 'jpg')"
   ]
  },
  {
   "cell_type": "code",
   "execution_count": 62,
   "metadata": {},
   "outputs": [
    {
     "data": {
      "text/plain": [
       "['filename1_0.png', 'filename2_1.png', 'filename3_2.png', 'filename4_3.png']"
      ]
     },
     "execution_count": 62,
     "metadata": {},
     "output_type": "execute_result"
    }
   ],
   "source": [
    "x = lambda filename_list, extension='png': [f\"{filename}_{idx}.{extension}\" for idx, filename in enumerate(filename_list)]\n",
    "x(example_list)"
   ]
  },
  {
   "cell_type": "code",
   "execution_count": 77,
   "metadata": {},
   "outputs": [
    {
     "data": {
      "text/plain": [
       "['image1.png', 'image3.png']"
      ]
     },
     "execution_count": 77,
     "metadata": {},
     "output_type": "execute_result"
    }
   ],
   "source": [
    "def collecting_png(*args):\n",
    "    return [filename for filename in args if filename.split('.')[-1] == 'png'][0:2]\n",
    "\n",
    "\n",
    "collecting_png('image1.png', 'image2.jpg', 'image3.png', 'image4.jpeg', 'image5.png')"
   ]
  },
  {
   "cell_type": "code",
   "execution_count": 93,
   "metadata": {},
   "outputs": [
    {
     "name": "stdout",
     "output_type": "stream",
     "text": [
      "<class 'tuple'>\n"
     ]
    },
    {
     "data": {
      "text/plain": [
       "['image1.png', 'image3.png']"
      ]
     },
     "execution_count": 93,
     "metadata": {},
     "output_type": "execute_result"
    }
   ],
   "source": [
    "def return_only_png(*args):\n",
    "    print(type(args))\n",
    "    return [filename for filename in args if filename[-4:] == '.png'][0:2]\n",
    "    \n",
    "#     png_list = []\n",
    "#     if args[-4:] == '.png':\n",
    "        \n",
    "#         png_list.append(args)\n",
    "        \n",
    "#     return png_list\n",
    "\n",
    "\n",
    "return_only_png('image1.png', 'image2.jpg', 'image3.png', 'image4.jpeg', 'image5.png')"
   ]
  },
  {
   "cell_type": "code",
   "execution_count": 136,
   "metadata": {},
   "outputs": [],
   "source": [
    "def print_dict_value(**kwargs):\n",
    "    param_a = kwargs.get('a', 300)\n",
    "    param_b = kwargs.get('b', 'b is nothing.')\n",
    "    param_c = kwargs.get('c')\n",
    "    print(kwargs.keys())\n",
    "    print(kwargs.values())\n",
    "    print(param_a)\n",
    "    print(param_b)\n",
    "    print(param_c)\n",
    "    print(kwargs.items())\n",
    "    item = kwargs.items()\n",
    "    \n",
    "\n",
    "def print_dict(**kwargs):\n",
    "    print(kwargs)"
   ]
  },
  {
   "cell_type": "code",
   "execution_count": 112,
   "metadata": {},
   "outputs": [
    {
     "name": "stdout",
     "output_type": "stream",
     "text": [
      "{'a': 1, 'b': 2}\n"
     ]
    }
   ],
   "source": [
    "print_dict(a=1, b=2)"
   ]
  },
  {
   "cell_type": "code",
   "execution_count": 137,
   "metadata": {},
   "outputs": [
    {
     "name": "stdout",
     "output_type": "stream",
     "text": [
      "dict_keys(['c', 'd'])\n",
      "dict_values([10, 20])\n",
      "300\n",
      "b is nothing.\n",
      "10\n",
      "dict_items([('c', 10), ('d', 20)])\n"
     ]
    }
   ],
   "source": [
    "print_dict_value(c=10, d=20)"
   ]
  },
  {
   "cell_type": "code",
   "execution_count": 140,
   "metadata": {},
   "outputs": [
    {
     "name": "stdout",
     "output_type": "stream",
     "text": [
      "This is front.\n",
      "I'm Ken!\n",
      "This is rear.\n"
     ]
    }
   ],
   "source": [
    "def deco(func):\n",
    "    def inner(*args, **kwargs):\n",
    "        print('This is front.')\n",
    "        func(*args, **kwargs)\n",
    "        print('This is rear.')\n",
    "    return inner\n",
    "\n",
    "\n",
    "@deco\n",
    "def say_hello(name):\n",
    "    print(f\"I'm {name}!\")\n",
    "\n",
    "\n",
    "say_hello(\"Ken\")    "
   ]
  },
  {
   "cell_type": "code",
   "execution_count": 154,
   "metadata": {},
   "outputs": [
    {
     "name": "stdout",
     "output_type": "stream",
     "text": [
      "({1: 'one', 2: 'two'}, {3: 'three', 4: 'four'})\n",
      "<class 'tuple'>\n",
      "{1: 'one', 2: 'two', 3: 'three', 4: 'four'}\n",
      "<class 'dict'>\n",
      "[1, 2, 3, 4, 5, 6]\n",
      "[1, 2, 3, 4, 5, 6]\n",
      "[[1, 2, 3], [4, 5, 6]]\n"
     ]
    }
   ],
   "source": [
    "dic1 = {1: \"one\", 2: \"two\"}\n",
    "dic2 = {3: \"three\", 4: \"four\"}\n",
    "\n",
    "dic3 = dic1, dic2\n",
    "dic4 = {**dic1, **dic2}\n",
    "\n",
    "print(dic3)\n",
    "print(type(dic3))\n",
    "print(dic4)\n",
    "print(type(dic4))\n",
    "\n",
    "list1 = [1, 2, 3]\n",
    "list2 = [4, 5, 6]\n",
    "\n",
    "list3 = list1 + list2\n",
    "list4 = [*list1, *list2]\n",
    "list5 = [list1, list2]\n",
    "\n",
    "print(list3)\n",
    "print(list4)\n",
    "print(list5)"
   ]
  },
  {
   "cell_type": "code",
   "execution_count": 157,
   "metadata": {},
   "outputs": [
    {
     "data": {
      "text/plain": [
       "array([[1, 3],\n",
       "       [4, 8]])"
      ]
     },
     "execution_count": 157,
     "metadata": {},
     "output_type": "execute_result"
    }
   ],
   "source": [
    "import numpy as np\n",
    "\n",
    "a = np.array([[1,3], [4, 8]])\n",
    "a"
   ]
  },
  {
   "cell_type": "code",
   "execution_count": 167,
   "metadata": {},
   "outputs": [
    {
     "name": "stdout",
     "output_type": "stream",
     "text": [
      "4 <class 'numpy.int64'>\n",
      "<class 'int'>\n",
      "4\n",
      "9 <class 'numpy.int64'>\n",
      "10 <class 'numpy.int64'>\n"
     ]
    }
   ],
   "source": [
    "b = 1 + a[0][1]\n",
    "print(b, type(b))\n",
    "print(type(int(b)))\n",
    "print(b)\n",
    "\n",
    "c = 1\n",
    "d = c + a[1][1]\n",
    "print(d, type(d))\n",
    "e = d + int(c)\n",
    "print(e, type(e))"
   ]
  },
  {
   "cell_type": "code",
   "execution_count": 179,
   "metadata": {},
   "outputs": [
    {
     "data": {
      "text/plain": [
       "array([[12, 23, 34, 51],\n",
       "       [15, 26, 37, 61],\n",
       "       [18, 29, 40, 71]])"
      ]
     },
     "execution_count": 179,
     "metadata": {},
     "output_type": "execute_result"
    }
   ],
   "source": [
    "z = np.array([[1, 2, 3, 10], [4, 5, 6, 20], [7, 8, 9, 30]])\n",
    "z += 1\n",
    "z + np.array([10, 20, 30, 40])"
   ]
  },
  {
   "cell_type": "code",
   "execution_count": 2,
   "metadata": {},
   "outputs": [
    {
     "ename": "NameError",
     "evalue": "name 'z' is not defined",
     "output_type": "error",
     "traceback": [
      "\u001b[0;31m---------------------------------------------------------------------------\u001b[0m",
      "\u001b[0;31mNameError\u001b[0m                                 Traceback (most recent call last)",
      "\u001b[0;32m<ipython-input-2-c5df84e8116a>\u001b[0m in \u001b[0;36m<module>\u001b[0;34m\u001b[0m\n\u001b[0;32m----> 1\u001b[0;31m \u001b[0mz\u001b[0m \u001b[0;34m+\u001b[0m \u001b[0mnp\u001b[0m\u001b[0;34m.\u001b[0m\u001b[0marray\u001b[0m\u001b[0;34m(\u001b[0m\u001b[0;34m[\u001b[0m\u001b[0;34m[\u001b[0m\u001b[0;36m10\u001b[0m\u001b[0;34m,\u001b[0m \u001b[0;36m20\u001b[0m\u001b[0;34m]\u001b[0m\u001b[0;34m,\u001b[0m \u001b[0;34m[\u001b[0m\u001b[0;36m10\u001b[0m\u001b[0;34m,\u001b[0m \u001b[0;36m10\u001b[0m\u001b[0;34m]\u001b[0m\u001b[0;34m]\u001b[0m\u001b[0;34m)\u001b[0m\u001b[0;34m\u001b[0m\u001b[0;34m\u001b[0m\u001b[0m\n\u001b[0m",
      "\u001b[0;31mNameError\u001b[0m: name 'z' is not defined"
     ]
    }
   ],
   "source": [
    "z + np.array([[10, 20], [10, 10]])"
   ]
  },
  {
   "cell_type": "code",
   "execution_count": null,
   "metadata": {},
   "outputs": [],
   "source": []
  }
 ],
 "metadata": {
  "kernelspec": {
   "display_name": "Python 3",
   "language": "python",
   "name": "python3"
  },
  "language_info": {
   "codemirror_mode": {
    "name": "ipython",
    "version": 3
   },
   "file_extension": ".py",
   "mimetype": "text/x-python",
   "name": "python",
   "nbconvert_exporter": "python",
   "pygments_lexer": "ipython3",
   "version": "3.7.6"
  }
 },
 "nbformat": 4,
 "nbformat_minor": 4
}
